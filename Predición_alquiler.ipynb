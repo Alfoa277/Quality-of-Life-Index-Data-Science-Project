{
  "nbformat": 4,
  "nbformat_minor": 0,
  "metadata": {
    "colab": {
      "provenance": []
    },
    "kernelspec": {
      "name": "python3",
      "display_name": "Python 3"
    },
    "language_info": {
      "name": "python"
    }
  },
  "cells": [
    {
      "cell_type": "code",
      "source": [
        "import pandas as pd\n",
        "import numpy as np\n",
        "import matplotlib.pyplot as plt\n",
        "from sklearn.linear_model import LinearRegression"
      ],
      "metadata": {
        "id": "QcNNW5hx-_5x"
      },
      "execution_count": null,
      "outputs": []
    },
    {
      "cell_type": "code",
      "execution_count": null,
      "metadata": {
        "colab": {
          "base_uri": "https://localhost:8080/"
        },
        "id": "AArohRBW-qVw",
        "outputId": "56fe7419-f0fb-4b38-9a0c-b6a261b4b4c5"
      },
      "outputs": [
        {
          "output_type": "stream",
          "name": "stdout",
          "text": [
            "Mounted at /content/drive\n"
          ]
        }
      ],
      "source": [
        "from google.colab import drive\n",
        "drive.mount('/content/drive')"
      ]
    },
    {
      "cell_type": "code",
      "source": [
        "df = pd.read_excel('/content/drive/MyDrive/Ayt/Precio vivienda.xlsx', sheet_name='Ponderado')\n",
        "df.head()"
      ],
      "metadata": {
        "colab": {
          "base_uri": "https://localhost:8080/",
          "height": 206
        },
        "id": "Hahv0yGE-t0M",
        "outputId": "42c5a417-3e81-4c77-87e1-7eb78f306401"
      },
      "execution_count": null,
      "outputs": [
        {
          "output_type": "execute_result",
          "data": {
            "text/plain": [
              "   Cod_dis Distrito       Nombre  Codigo  Precio Alquiler  Precio Compra\n",
              "0        1   Centro      PALACIO      11             18.6           4714\n",
              "1        1   Centro  EMBAJADORES      12             18.8           4231\n",
              "2        1   Centro       CORTES      13             20.0           5041\n",
              "3        1   Centro     JUSTICIA      14             20.7           5773\n",
              "4        1   Centro  UNIVERSIDAD      15             20.0           5144"
            ],
            "text/html": [
              "\n",
              "  <div id=\"df-afac78bc-8154-443b-a09f-fb357e310b86\">\n",
              "    <div class=\"colab-df-container\">\n",
              "      <div>\n",
              "<style scoped>\n",
              "    .dataframe tbody tr th:only-of-type {\n",
              "        vertical-align: middle;\n",
              "    }\n",
              "\n",
              "    .dataframe tbody tr th {\n",
              "        vertical-align: top;\n",
              "    }\n",
              "\n",
              "    .dataframe thead th {\n",
              "        text-align: right;\n",
              "    }\n",
              "</style>\n",
              "<table border=\"1\" class=\"dataframe\">\n",
              "  <thead>\n",
              "    <tr style=\"text-align: right;\">\n",
              "      <th></th>\n",
              "      <th>Cod_dis</th>\n",
              "      <th>Distrito</th>\n",
              "      <th>Nombre</th>\n",
              "      <th>Codigo</th>\n",
              "      <th>Precio Alquiler</th>\n",
              "      <th>Precio Compra</th>\n",
              "    </tr>\n",
              "  </thead>\n",
              "  <tbody>\n",
              "    <tr>\n",
              "      <th>0</th>\n",
              "      <td>1</td>\n",
              "      <td>Centro</td>\n",
              "      <td>PALACIO</td>\n",
              "      <td>11</td>\n",
              "      <td>18.6</td>\n",
              "      <td>4714</td>\n",
              "    </tr>\n",
              "    <tr>\n",
              "      <th>1</th>\n",
              "      <td>1</td>\n",
              "      <td>Centro</td>\n",
              "      <td>EMBAJADORES</td>\n",
              "      <td>12</td>\n",
              "      <td>18.8</td>\n",
              "      <td>4231</td>\n",
              "    </tr>\n",
              "    <tr>\n",
              "      <th>2</th>\n",
              "      <td>1</td>\n",
              "      <td>Centro</td>\n",
              "      <td>CORTES</td>\n",
              "      <td>13</td>\n",
              "      <td>20.0</td>\n",
              "      <td>5041</td>\n",
              "    </tr>\n",
              "    <tr>\n",
              "      <th>3</th>\n",
              "      <td>1</td>\n",
              "      <td>Centro</td>\n",
              "      <td>JUSTICIA</td>\n",
              "      <td>14</td>\n",
              "      <td>20.7</td>\n",
              "      <td>5773</td>\n",
              "    </tr>\n",
              "    <tr>\n",
              "      <th>4</th>\n",
              "      <td>1</td>\n",
              "      <td>Centro</td>\n",
              "      <td>UNIVERSIDAD</td>\n",
              "      <td>15</td>\n",
              "      <td>20.0</td>\n",
              "      <td>5144</td>\n",
              "    </tr>\n",
              "  </tbody>\n",
              "</table>\n",
              "</div>\n",
              "      <button class=\"colab-df-convert\" onclick=\"convertToInteractive('df-afac78bc-8154-443b-a09f-fb357e310b86')\"\n",
              "              title=\"Convert this dataframe to an interactive table.\"\n",
              "              style=\"display:none;\">\n",
              "        \n",
              "  <svg xmlns=\"http://www.w3.org/2000/svg\" height=\"24px\"viewBox=\"0 0 24 24\"\n",
              "       width=\"24px\">\n",
              "    <path d=\"M0 0h24v24H0V0z\" fill=\"none\"/>\n",
              "    <path d=\"M18.56 5.44l.94 2.06.94-2.06 2.06-.94-2.06-.94-.94-2.06-.94 2.06-2.06.94zm-11 1L8.5 8.5l.94-2.06 2.06-.94-2.06-.94L8.5 2.5l-.94 2.06-2.06.94zm10 10l.94 2.06.94-2.06 2.06-.94-2.06-.94-.94-2.06-.94 2.06-2.06.94z\"/><path d=\"M17.41 7.96l-1.37-1.37c-.4-.4-.92-.59-1.43-.59-.52 0-1.04.2-1.43.59L10.3 9.45l-7.72 7.72c-.78.78-.78 2.05 0 2.83L4 21.41c.39.39.9.59 1.41.59.51 0 1.02-.2 1.41-.59l7.78-7.78 2.81-2.81c.8-.78.8-2.07 0-2.86zM5.41 20L4 18.59l7.72-7.72 1.47 1.35L5.41 20z\"/>\n",
              "  </svg>\n",
              "      </button>\n",
              "      \n",
              "  <style>\n",
              "    .colab-df-container {\n",
              "      display:flex;\n",
              "      flex-wrap:wrap;\n",
              "      gap: 12px;\n",
              "    }\n",
              "\n",
              "    .colab-df-convert {\n",
              "      background-color: #E8F0FE;\n",
              "      border: none;\n",
              "      border-radius: 50%;\n",
              "      cursor: pointer;\n",
              "      display: none;\n",
              "      fill: #1967D2;\n",
              "      height: 32px;\n",
              "      padding: 0 0 0 0;\n",
              "      width: 32px;\n",
              "    }\n",
              "\n",
              "    .colab-df-convert:hover {\n",
              "      background-color: #E2EBFA;\n",
              "      box-shadow: 0px 1px 2px rgba(60, 64, 67, 0.3), 0px 1px 3px 1px rgba(60, 64, 67, 0.15);\n",
              "      fill: #174EA6;\n",
              "    }\n",
              "\n",
              "    [theme=dark] .colab-df-convert {\n",
              "      background-color: #3B4455;\n",
              "      fill: #D2E3FC;\n",
              "    }\n",
              "\n",
              "    [theme=dark] .colab-df-convert:hover {\n",
              "      background-color: #434B5C;\n",
              "      box-shadow: 0px 1px 3px 1px rgba(0, 0, 0, 0.15);\n",
              "      filter: drop-shadow(0px 1px 2px rgba(0, 0, 0, 0.3));\n",
              "      fill: #FFFFFF;\n",
              "    }\n",
              "  </style>\n",
              "\n",
              "      <script>\n",
              "        const buttonEl =\n",
              "          document.querySelector('#df-afac78bc-8154-443b-a09f-fb357e310b86 button.colab-df-convert');\n",
              "        buttonEl.style.display =\n",
              "          google.colab.kernel.accessAllowed ? 'block' : 'none';\n",
              "\n",
              "        async function convertToInteractive(key) {\n",
              "          const element = document.querySelector('#df-afac78bc-8154-443b-a09f-fb357e310b86');\n",
              "          const dataTable =\n",
              "            await google.colab.kernel.invokeFunction('convertToInteractive',\n",
              "                                                     [key], {});\n",
              "          if (!dataTable) return;\n",
              "\n",
              "          const docLinkHtml = 'Like what you see? Visit the ' +\n",
              "            '<a target=\"_blank\" href=https://colab.research.google.com/notebooks/data_table.ipynb>data table notebook</a>'\n",
              "            + ' to learn more about interactive tables.';\n",
              "          element.innerHTML = '';\n",
              "          dataTable['output_type'] = 'display_data';\n",
              "          await google.colab.output.renderOutput(dataTable, element);\n",
              "          const docLink = document.createElement('div');\n",
              "          docLink.innerHTML = docLinkHtml;\n",
              "          element.appendChild(docLink);\n",
              "        }\n",
              "      </script>\n",
              "    </div>\n",
              "  </div>\n",
              "  "
            ]
          },
          "metadata": {},
          "execution_count": 3
        }
      ]
    },
    {
      "cell_type": "code",
      "source": [
        "df[\"Precio Alquiler\"].unique()"
      ],
      "metadata": {
        "colab": {
          "base_uri": "https://localhost:8080/"
        },
        "id": "dfz2qwNR_G9U",
        "outputId": "b06af029-dbd4-4b33-ce70-7d58a0598e01"
      },
      "execution_count": null,
      "outputs": [
        {
          "output_type": "execute_result",
          "data": {
            "text/plain": [
              "array([18.6, 18.8, 20. , 20.7, 18. , 15. , 16. , 15.9, 15.5, 16.3,  nan,\n",
              "       15.4, 15.7, 17.7, 19.4, 17.1, 22.8, 16.7, 21.4, 19. , 17.4, 15.6,\n",
              "       17.5, 15.2, 18.1, 17.8, 19.6, 17.2, 11.1, 13.2, 14.5, 12.1, 12.8,\n",
              "       12.9, 15.1, 14.1, 12.6, 11.4, 13.5, 10.9, 13.1, 13.3, 12.5, 15.3,\n",
              "       11.5, 13.6, 12.4, 13.9, 11.9, 13.4, 14.6, 14.7, 13.8, 13. , 12.2,\n",
              "       11.7, 11.8, 10.7, 12.3, 11.3])"
            ]
          },
          "metadata": {},
          "execution_count": 4
        }
      ]
    },
    {
      "cell_type": "code",
      "source": [
        "pairs=df.loc[df[\"Precio Alquiler\"]>0]\n",
        "missing=df.loc[np.isnan(df[\"Precio Alquiler\"])]"
      ],
      "metadata": {
        "id": "lSCZxIBh_L-2"
      },
      "execution_count": null,
      "outputs": []
    },
    {
      "cell_type": "code",
      "source": [
        "plt.scatter(pairs[\"Precio Compra\"], pairs[\"Precio Alquiler\"])\n",
        "plt.title(\"Precio Vivienda\")\n",
        "plt.xlabel(\"Precio Compra\")\n",
        "plt.ylabel(\"Precio Alquiler\")\n",
        "plt.show()"
      ],
      "metadata": {
        "colab": {
          "base_uri": "https://localhost:8080/",
          "height": 295
        },
        "id": "KQEX6rjfAA5e",
        "outputId": "af50c767-3374-4341-c645-a1e4b6807849"
      },
      "execution_count": null,
      "outputs": [
        {
          "output_type": "display_data",
          "data": {
            "text/plain": [
              "<Figure size 432x288 with 1 Axes>"
            ],
            "image/png": "[encoded data removed]"
          },
          "metadata": {
            "needs_background": "light"
          }
        }
      ]
    },
    {
      "cell_type": "code",
      "source": [
        "correlation=np.corrcoef(pairs[\"Precio Compra\"], pairs[\"Precio Alquiler\"])\n",
        "correlation"
      ],
      "metadata": {
        "colab": {
          "base_uri": "https://localhost:8080/"
        },
        "id": "gz8kfY6xOhut",
        "outputId": "5d938366-bb58-437f-d35e-145f1d9734f8"
      },
      "execution_count": null,
      "outputs": [
        {
          "output_type": "execute_result",
          "data": {
            "text/plain": [
              "array([[1.        , 0.85945132],\n",
              "       [0.85945132, 1.        ]])"
            ]
          },
          "metadata": {},
          "execution_count": 7
        }
      ]
    },
    {
      "cell_type": "code",
      "source": [
        "model = LinearRegression()\n",
        "model.fit(pairs[\"Precio Compra\"].values.reshape(-1, 1), pairs[\"Precio Alquiler\"])\n",
        "print(\"Coefficient of determination:\", model.score(pairs[\"Precio Compra\"].values.reshape(-1, 1), pairs[\"Precio Alquiler\"]))\n",
        "print(\"Intercept:\", model.intercept_)\n",
        "print(\"Slope:\", model.coef_)"
      ],
      "metadata": {
        "colab": {
          "base_uri": "https://localhost:8080/"
        },
        "id": "itq-dxy84gb9",
        "outputId": "368a1566-3aad-4341-cb06-ceb790a3f44b"
      },
      "execution_count": null,
      "outputs": [
        {
          "output_type": "stream",
          "name": "stdout",
          "text": [
            "Coefficient of determination: 0.7386565655648087\n",
            "Intercept: 8.37108972678802\n",
            "Slope: [0.00174662]\n"
          ]
        }
      ]
    },
    {
      "cell_type": "code",
      "source": [
        "plt.scatter(pairs[\"Precio Compra\"], pairs[\"Precio Alquiler\"])\n",
        "plt.plot(pairs[\"Precio Compra\"], model.intercept_+model.coef_*pairs[\"Precio Compra\"], color=\"red\")\n",
        "plt.title(\"Precio Vivienda\")\n",
        "plt.xlabel(\"Precio Compra\")\n",
        "plt.ylabel(\"Precio Alquiler\")\n",
        "plt.show()"
      ],
      "metadata": {
        "colab": {
          "base_uri": "https://localhost:8080/",
          "height": 295
        },
        "id": "X7gou3B_hJEu",
        "outputId": "60677bd5-2e86-4b38-abec-8780be59a7ae"
      },
      "execution_count": null,
      "outputs": [
        {
          "output_type": "display_data",
          "data": {
            "text/plain": [
              "<Figure size 432x288 with 1 Axes>"
            ],
            "image/png": "[encoded data removed]"
          },
          "metadata": {
            "needs_background": "light"
          }
        }
      ]
    },
    {
      "cell_type": "code",
      "source": [
        "for missing in range(len(df)):\n",
        "  if np.isnan(df.iloc[missing][\"Precio Alquiler\"]):\n",
        "    value= df.iloc[missing][\"Precio Compra\"]\n",
        "    df.loc[missing,\"Precio Alquiler\"]=np.round(model.predict([[value]]), decimals=1)"
      ],
      "metadata": {
        "id": "wLfMQ-uThW5K"
      },
      "execution_count": null,
      "outputs": []
    },
    {
      "cell_type": "code",
      "source": [
        "df"
      ],
      "metadata": {
        "colab": {
          "base_uri": "https://localhost:8080/",
          "height": 423
        },
        "id": "SPhQcC2Zl0v9",
        "outputId": "fd2352e3-8094-4896-c633-e1ad205249ae"
      },
      "execution_count": null,
      "outputs": [
        {
          "output_type": "execute_result",
          "data": {
            "text/plain": [
              "     Cod_dis Distrito            Nombre  Codigo  Precio Alquiler  \\\n",
              "0          1   Centro           PALACIO      11             18.6   \n",
              "1          1   Centro       EMBAJADORES      12             18.8   \n",
              "2          1   Centro            CORTES      13             20.0   \n",
              "3          1   Centro          JUSTICIA      14             20.7   \n",
              "4          1   Centro       UNIVERSIDAD      15             20.0   \n",
              "..       ...      ...               ...     ...              ...   \n",
              "126       21  Barajas  ALAMEDA DE OSUNA     211             12.4   \n",
              "127       21  Barajas        AEROPUERTO     212             14.1   \n",
              "128       21  Barajas   CASCO H.BARAJAS     213             12.6   \n",
              "129       21  Barajas             TIMON     214             12.4   \n",
              "130       21  Barajas        CORRALEJOS     215             11.5   \n",
              "\n",
              "     Precio Compra  \n",
              "0             4714  \n",
              "1             4231  \n",
              "2             5041  \n",
              "3             5773  \n",
              "4             5144  \n",
              "..             ...  \n",
              "126           3542  \n",
              "127           3304  \n",
              "128           2973  \n",
              "129           3013  \n",
              "130           3688  \n",
              "\n",
              "[131 rows x 6 columns]"
            ],
            "text/html": [
              "\n",
              "  <div id=\"df-b73005ea-d5a6-46be-b7b8-91cbf88df243\">\n",
              "    <div class=\"colab-df-container\">\n",
              "      <div>\n",
              "<style scoped>\n",
              "    .dataframe tbody tr th:only-of-type {\n",
              "        vertical-align: middle;\n",
              "    }\n",
              "\n",
              "    .dataframe tbody tr th {\n",
              "        vertical-align: top;\n",
              "    }\n",
              "\n",
              "    .dataframe thead th {\n",
              "        text-align: right;\n",
              "    }\n",
              "</style>\n",
              "<table border=\"1\" class=\"dataframe\">\n",
              "  <thead>\n",
              "    <tr style=\"text-align: right;\">\n",
              "      <th></th>\n",
              "      <th>Cod_dis</th>\n",
              "      <th>Distrito</th>\n",
              "      <th>Nombre</th>\n",
              "      <th>Codigo</th>\n",
              "      <th>Precio Alquiler</th>\n",
              "      <th>Precio Compra</th>\n",
              "    </tr>\n",
              "  </thead>\n",
              "  <tbody>\n",
              "    <tr>\n",
              "      <th>0</th>\n",
              "      <td>1</td>\n",
              "      <td>Centro</td>\n",
              "      <td>PALACIO</td>\n",
              "      <td>11</td>\n",
              "      <td>18.6</td>\n",
              "      <td>4714</td>\n",
              "    </tr>\n",
              "    <tr>\n",
              "      <th>1</th>\n",
              "      <td>1</td>\n",
              "      <td>Centro</td>\n",
              "      <td>EMBAJADORES</td>\n",
              "      <td>12</td>\n",
              "      <td>18.8</td>\n",
              "      <td>4231</td>\n",
              "    </tr>\n",
              "    <tr>\n",
              "      <th>2</th>\n",
              "      <td>1</td>\n",
              "      <td>Centro</td>\n",
              "      <td>CORTES</td>\n",
              "      <td>13</td>\n",
              "      <td>20.0</td>\n",
              "      <td>5041</td>\n",
              "    </tr>\n",
              "    <tr>\n",
              "      <th>3</th>\n",
              "      <td>1</td>\n",
              "      <td>Centro</td>\n",
              "      <td>JUSTICIA</td>\n",
              "      <td>14</td>\n",
              "      <td>20.7</td>\n",
              "      <td>5773</td>\n",
              "    </tr>\n",
              "    <tr>\n",
              "      <th>4</th>\n",
              "      <td>1</td>\n",
              "      <td>Centro</td>\n",
              "      <td>UNIVERSIDAD</td>\n",
              "      <td>15</td>\n",
              "      <td>20.0</td>\n",
              "      <td>5144</td>\n",
              "    </tr>\n",
              "    <tr>\n",
              "      <th>...</th>\n",
              "      <td>...</td>\n",
              "      <td>...</td>\n",
              "      <td>...</td>\n",
              "      <td>...</td>\n",
              "      <td>...</td>\n",
              "      <td>...</td>\n",
              "    </tr>\n",
              "    <tr>\n",
              "      <th>126</th>\n",
              "      <td>21</td>\n",
              "      <td>Barajas</td>\n",
              "      <td>ALAMEDA DE OSUNA</td>\n",
              "      <td>211</td>\n",
              "      <td>12.4</td>\n",
              "      <td>3542</td>\n",
              "    </tr>\n",
              "    <tr>\n",
              "      <th>127</th>\n",
              "      <td>21</td>\n",
              "      <td>Barajas</td>\n",
              "      <td>AEROPUERTO</td>\n",
              "      <td>212</td>\n",
              "      <td>14.1</td>\n",
              "      <td>3304</td>\n",
              "    </tr>\n",
              "    <tr>\n",
              "      <th>128</th>\n",
              "      <td>21</td>\n",
              "      <td>Barajas</td>\n",
              "      <td>CASCO H.BARAJAS</td>\n",
              "      <td>213</td>\n",
              "      <td>12.6</td>\n",
              "      <td>2973</td>\n",
              "    </tr>\n",
              "    <tr>\n",
              "      <th>129</th>\n",
              "      <td>21</td>\n",
              "      <td>Barajas</td>\n",
              "      <td>TIMON</td>\n",
              "      <td>214</td>\n",
              "      <td>12.4</td>\n",
              "      <td>3013</td>\n",
              "    </tr>\n",
              "    <tr>\n",
              "      <th>130</th>\n",
              "      <td>21</td>\n",
              "      <td>Barajas</td>\n",
              "      <td>CORRALEJOS</td>\n",
              "      <td>215</td>\n",
              "      <td>11.5</td>\n",
              "      <td>3688</td>\n",
              "    </tr>\n",
              "  </tbody>\n",
              "</table>\n",
              "<p>131 rows × 6 columns</p>\n",
              "</div>\n",
              "      <button class=\"colab-df-convert\" onclick=\"convertToInteractive('df-b73005ea-d5a6-46be-b7b8-91cbf88df243')\"\n",
              "              title=\"Convert this dataframe to an interactive table.\"\n",
              "              style=\"display:none;\">\n",
              "        \n",
              "  <svg xmlns=\"http://www.w3.org/2000/svg\" height=\"24px\"viewBox=\"0 0 24 24\"\n",
              "       width=\"24px\">\n",
              "    <path d=\"M0 0h24v24H0V0z\" fill=\"none\"/>\n",
              "    <path d=\"M18.56 5.44l.94 2.06.94-2.06 2.06-.94-2.06-.94-.94-2.06-.94 2.06-2.06.94zm-11 1L8.5 8.5l.94-2.06 2.06-.94-2.06-.94L8.5 2.5l-.94 2.06-2.06.94zm10 10l.94 2.06.94-2.06 2.06-.94-2.06-.94-.94-2.06-.94 2.06-2.06.94z\"/><path d=\"M17.41 7.96l-1.37-1.37c-.4-.4-.92-.59-1.43-.59-.52 0-1.04.2-1.43.59L10.3 9.45l-7.72 7.72c-.78.78-.78 2.05 0 2.83L4 21.41c.39.39.9.59 1.41.59.51 0 1.02-.2 1.41-.59l7.78-7.78 2.81-2.81c.8-.78.8-2.07 0-2.86zM5.41 20L4 18.59l7.72-7.72 1.47 1.35L5.41 20z\"/>\n",
              "  </svg>\n",
              "      </button>\n",
              "      \n",
              "  <style>\n",
              "    .colab-df-container {\n",
              "      display:flex;\n",
              "      flex-wrap:wrap;\n",
              "      gap: 12px;\n",
              "    }\n",
              "\n",
              "    .colab-df-convert {\n",
              "      background-color: #E8F0FE;\n",
              "      border: none;\n",
              "      border-radius: 50%;\n",
              "      cursor: pointer;\n",
              "      display: none;\n",
              "      fill: #1967D2;\n",
              "      height: 32px;\n",
              "      padding: 0 0 0 0;\n",
              "      width: 32px;\n",
              "    }\n",
              "\n",
              "    .colab-df-convert:hover {\n",
              "      background-color: #E2EBFA;\n",
              "      box-shadow: 0px 1px 2px rgba(60, 64, 67, 0.3), 0px 1px 3px 1px rgba(60, 64, 67, 0.15);\n",
              "      fill: #174EA6;\n",
              "    }\n",
              "\n",
              "    [theme=dark] .colab-df-convert {\n",
              "      background-color: #3B4455;\n",
              "      fill: #D2E3FC;\n",
              "    }\n",
              "\n",
              "    [theme=dark] .colab-df-convert:hover {\n",
              "      background-color: #434B5C;\n",
              "      box-shadow: 0px 1px 3px 1px rgba(0, 0, 0, 0.15);\n",
              "      filter: drop-shadow(0px 1px 2px rgba(0, 0, 0, 0.3));\n",
              "      fill: #FFFFFF;\n",
              "    }\n",
              "  </style>\n",
              "\n",
              "      <script>\n",
              "        const buttonEl =\n",
              "          document.querySelector('#df-b73005ea-d5a6-46be-b7b8-91cbf88df243 button.colab-df-convert');\n",
              "        buttonEl.style.display =\n",
              "          google.colab.kernel.accessAllowed ? 'block' : 'none';\n",
              "\n",
              "        async function convertToInteractive(key) {\n",
              "          const element = document.querySelector('#df-b73005ea-d5a6-46be-b7b8-91cbf88df243');\n",
              "          const dataTable =\n",
              "            await google.colab.kernel.invokeFunction('convertToInteractive',\n",
              "                                                     [key], {});\n",
              "          if (!dataTable) return;\n",
              "\n",
              "          const docLinkHtml = 'Like what you see? Visit the ' +\n",
              "            '<a target=\"_blank\" href=https://colab.research.google.com/notebooks/data_table.ipynb>data table notebook</a>'\n",
              "            + ' to learn more about interactive tables.';\n",
              "          element.innerHTML = '';\n",
              "          dataTable['output_type'] = 'display_data';\n",
              "          await google.colab.output.renderOutput(dataTable, element);\n",
              "          const docLink = document.createElement('div');\n",
              "          docLink.innerHTML = docLinkHtml;\n",
              "          element.appendChild(docLink);\n",
              "        }\n",
              "      </script>\n",
              "    </div>\n",
              "  </div>\n",
              "  "
            ]
          },
          "metadata": {},
          "execution_count": 38
        }
      ]
    },
    {
      "cell_type": "code",
      "source": [
        "df.to_csv(\"Precio vivienda.csv\")"
      ],
      "metadata": {
        "id": "lDpOZQ74lJCE"
      },
      "execution_count": null,
      "outputs": []
    },
    {
      "cell_type": "code",
      "source": [
        "pairs[\"Distrito\"].unique()"
      ],
      "metadata": {
        "colab": {
          "base_uri": "https://localhost:8080/"
        },
        "id": "X8auu7fcPKyp",
        "outputId": "5268081b-95fc-4d75-a59d-ff40272146fb"
      },
      "execution_count": null,
      "outputs": [
        {
          "output_type": "execute_result",
          "data": {
            "text/plain": [
              "array(['Centro', 'Arganzuela', 'Retiro', 'Salamanca', 'Chamartín',\n",
              "       'Tetuán', 'Chamberí', 'Fuencarral - El Pardo', 'Moncloa - Aravaca',\n",
              "       'Latina', 'Carabanchel', 'Usera', 'Puente de Vallecas',\n",
              "       'Moratalaz', 'Ciudad Lineal', 'Hortaleza', 'Villaverde',\n",
              "       'Villa de Vallecas', 'Vicálvaro', 'San Blas - Canillejas',\n",
              "       'Barajas'], dtype=object)"
            ]
          },
          "metadata": {},
          "execution_count": 10
        }
      ]
    },
    {
      "cell_type": "code",
      "source": [
        "arganzuela=pairs.loc[pairs[\"Distrito\"]==\"Usera\"]\n",
        "plt.scatter(arganzuela[\"Precio Compra\"], arganzuela[\"Precio Alquiler\"])"
      ],
      "metadata": {
        "colab": {
          "base_uri": "https://localhost:8080/",
          "height": 283
        },
        "id": "znKlD1ioCKnP",
        "outputId": "52a1fd24-78a5-4a19-e138-5a4d71f4e068"
      },
      "execution_count": null,
      "outputs": [
        {
          "output_type": "execute_result",
          "data": {
            "text/plain": [
              "<matplotlib.collections.PathCollection at 0x7f74c3eec750>"
            ]
          },
          "metadata": {},
          "execution_count": 11
        },
        {
          "output_type": "display_data",
          "data": {
            "text/plain": [
              "<Figure size 432x288 with 1 Axes>"
            ],
            "image/png": "[encoded data removed]"
          },
          "metadata": {
            "needs_background": "light"
          }
        }
      ]
    }
  ]
}